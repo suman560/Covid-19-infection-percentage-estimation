{
 "cells": [
  {
   "cell_type": "code",
   "execution_count": null,
   "metadata": {},
   "outputs": [],
   "source": [
    "###installing necessary libraries"
   ]
  },
  {
   "cell_type": "code",
   "execution_count": null,
   "metadata": {
    "_cell_guid": "b1076dfc-b9ad-4769-8c92-a6c4dae69d19",
    "_uuid": "8f2839f25d086af736a60e9eeb907d3b93b6e0e5",
    "execution": {
     "iopub.execute_input": "2022-01-13T01:46:45.487556Z",
     "iopub.status.busy": "2022-01-13T01:46:45.487242Z",
     "iopub.status.idle": "2022-01-13T01:46:45.514408Z",
     "shell.execute_reply": "2022-01-13T01:46:45.513762Z",
     "shell.execute_reply.started": "2022-01-13T01:46:45.487468Z"
    }
   },
   "outputs": [],
   "source": [
    "# import sys\n",
    "# sys.path.append(\"../input/tez-lib/\")\n",
    "\n",
    "!pip install tez"
   ]
  },
  {
   "cell_type": "code",
   "execution_count": null,
   "metadata": {
    "execution": {
     "iopub.execute_input": "2022-01-13T01:46:48.007097Z",
     "iopub.status.busy": "2022-01-13T01:46:48.006623Z",
     "iopub.status.idle": "2022-01-13T01:47:08.650237Z",
     "shell.execute_reply": "2022-01-13T01:47:08.649362Z",
     "shell.execute_reply.started": "2022-01-13T01:46:48.007058Z"
    }
   },
   "outputs": [],
   "source": [
    "!pip install gdown"
   ]
  },
  {
   "cell_type": "code",
   "execution_count": null,
   "metadata": {},
   "outputs": [],
   "source": [
    "!pip install git+https://github.com/rwightman/pytorch-image-models"
   ]
  },
  {
   "cell_type": "code",
   "execution_count": null,
   "metadata": {},
   "outputs": [],
   "source": []
  },
  {
   "cell_type": "code",
   "execution_count": null,
   "metadata": {},
   "outputs": [],
   "source": [
    "##preparing data"
   ]
  },
  {
   "cell_type": "code",
   "execution_count": null,
   "metadata": {
    "execution": {
     "iopub.execute_input": "2022-01-13T01:47:15.190316Z",
     "iopub.status.busy": "2022-01-13T01:47:15.18968Z",
     "iopub.status.idle": "2022-01-13T01:47:25.96586Z",
     "shell.execute_reply": "2022-01-13T01:47:25.965022Z",
     "shell.execute_reply.started": "2022-01-13T01:47:15.190279Z"
    }
   },
   "outputs": [],
   "source": [
    "#downloading Train data\n",
    "!gdown https://drive.google.com/uc?id=1EtjM_HGKaWcHnxMvn33Ud0rKICt9dSKS"
   ]
  },
  {
   "cell_type": "code",
   "execution_count": null,
   "metadata": {
    "execution": {
     "iopub.execute_input": "2022-01-13T01:47:29.157855Z",
     "iopub.status.busy": "2022-01-13T01:47:29.15755Z",
     "iopub.status.idle": "2022-01-13T01:47:33.600577Z",
     "shell.execute_reply": "2022-01-13T01:47:33.599773Z",
     "shell.execute_reply.started": "2022-01-13T01:47:29.157821Z"
    }
   },
   "outputs": [],
   "source": [
    "#downloading Val data\n",
    "!gdown https://drive.google.com/uc?id=1pnpG87i1uTvbMMxpsmnDuBEkQYR7n4Nb"
   ]
  },
  {
   "cell_type": "code",
   "execution_count": null,
   "metadata": {
    "collapsed": true,
    "execution": {
     "iopub.execute_input": "2022-01-13T01:47:41.558575Z",
     "iopub.status.busy": "2022-01-13T01:47:41.555886Z",
     "iopub.status.idle": "2022-01-13T01:47:50.341487Z",
     "shell.execute_reply": "2022-01-13T01:47:50.340674Z",
     "shell.execute_reply.started": "2022-01-13T01:47:41.558519Z"
    },
    "jupyter": {
     "outputs_hidden": true
    }
   },
   "outputs": [],
   "source": [
    "!unzip \"./Train.zip\""
   ]
  },
  {
   "cell_type": "code",
   "execution_count": null,
   "metadata": {
    "collapsed": true,
    "execution": {
     "iopub.execute_input": "2022-01-13T01:47:56.85445Z",
     "iopub.status.busy": "2022-01-13T01:47:56.853854Z",
     "iopub.status.idle": "2022-01-13T01:48:00.839185Z",
     "shell.execute_reply": "2022-01-13T01:48:00.838348Z",
     "shell.execute_reply.started": "2022-01-13T01:47:56.854412Z"
    },
    "jupyter": {
     "outputs_hidden": true
    }
   },
   "outputs": [],
   "source": [
    "!unzip \"./Val Blind.zip\""
   ]
  },
  {
   "cell_type": "code",
   "execution_count": null,
   "metadata": {
    "execution": {
     "iopub.execute_input": "2022-01-13T01:48:10.189523Z",
     "iopub.status.busy": "2022-01-13T01:48:10.188821Z",
     "iopub.status.idle": "2022-01-13T01:48:22.730687Z",
     "shell.execute_reply": "2022-01-13T01:48:22.729751Z",
     "shell.execute_reply.started": "2022-01-13T01:48:10.189484Z"
    }
   },
   "outputs": [],
   "source": []
  },
  {
   "cell_type": "code",
   "execution_count": null,
   "metadata": {},
   "outputs": [],
   "source": [
    "###loading necessary libraries"
   ]
  },
  {
   "cell_type": "code",
   "execution_count": null,
   "metadata": {
    "execution": {
     "iopub.execute_input": "2022-01-13T01:48:37.057238Z",
     "iopub.status.busy": "2022-01-13T01:48:37.05661Z",
     "iopub.status.idle": "2022-01-13T01:48:45.646803Z",
     "shell.execute_reply": "2022-01-13T01:48:45.645942Z",
     "shell.execute_reply.started": "2022-01-13T01:48:37.057201Z"
    }
   },
   "outputs": [],
   "source": [
    "import  tez\n",
    "import albumentations\n",
    "import pandas as pd\n",
    "import cv2\n",
    "import numpy as np\n",
    "import timm\n",
    "\n",
    "import torch.nn as nn\n",
    "from sklearn import metrics\n",
    "import torch\n",
    "from tez.callbacks import EarlyStopping\n",
    "from tqdm import tqdm\n"
   ]
  },
  {
   "cell_type": "code",
   "execution_count": null,
   "metadata": {
    "execution": {
     "iopub.execute_input": "2022-01-13T01:48:47.05246Z",
     "iopub.status.busy": "2022-01-13T01:48:47.052194Z",
     "iopub.status.idle": "2022-01-13T01:48:47.060266Z",
     "shell.execute_reply": "2022-01-13T01:48:47.058794Z",
     "shell.execute_reply.started": "2022-01-13T01:48:47.052432Z"
    }
   },
   "outputs": [],
   "source": [
    "class args:\n",
    "    batch_size = 8\n",
    "    #image_size = 384\n",
    "    image_size=384\n",
    "    epochs =20\n",
    "    fold=0"
   ]
  },
  {
   "cell_type": "code",
   "execution_count": null,
   "metadata": {
    "execution": {
     "iopub.execute_input": "2022-01-13T01:48:52.650808Z",
     "iopub.status.busy": "2022-01-13T01:48:52.650541Z",
     "iopub.status.idle": "2022-01-13T01:49:01.554875Z",
     "shell.execute_reply": "2022-01-13T01:49:01.553897Z",
     "shell.execute_reply.started": "2022-01-13T01:48:52.650778Z"
    }
   },
   "outputs": [],
   "source": []
  },
  {
   "cell_type": "code",
   "execution_count": null,
   "metadata": {},
   "outputs": [],
   "source": [
    "##dataset class"
   ]
  },
  {
   "cell_type": "code",
   "execution_count": null,
   "metadata": {
    "execution": {
     "iopub.execute_input": "2022-01-13T01:49:01.558189Z",
     "iopub.status.busy": "2022-01-13T01:49:01.557492Z",
     "iopub.status.idle": "2022-01-13T01:49:01.568917Z",
     "shell.execute_reply": "2022-01-13T01:49:01.567971Z",
     "shell.execute_reply.started": "2022-01-13T01:49:01.558144Z"
    }
   },
   "outputs": [],
   "source": [
    "class CovidDataset:\n",
    "    def __init__(self,image_paths,targets,augmentations):\n",
    "        self.image_paths = image_paths\n",
    "        self.targets = targets\n",
    "        self.augmentations = augmentations\n",
    "    \n",
    "    def __len__(self):\n",
    "        return len(self.image_paths)\n",
    "    \n",
    "    def __getitem__(self,item):\n",
    "        image = cv2.imread(self.image_paths[item])\n",
    "        image = cv2.cvtColor(image, cv2.COLOR_BGR2RGB)\n",
    "        \n",
    "        if self.augmentations is not  None:\n",
    "            augmented = self.augmentations(image=image)\n",
    "            image = augmented[\"image\"]\n",
    "        \n",
    "        image = np.transpose(image,(2,0,1)).astype(np.float32)\n",
    "        \n",
    "        targets = self.targets[item]\n",
    "        \n",
    "        return {\n",
    "            \"image\":torch.tensor(image,dtype=torch.float),\n",
    "            \"targets\":torch.tensor(targets,dtype=torch.float)\n",
    "        }\n",
    "    "
   ]
  },
  {
   "cell_type": "code",
   "execution_count": null,
   "metadata": {},
   "outputs": [],
   "source": [
    "###designing model"
   ]
  },
  {
   "cell_type": "code",
   "execution_count": null,
   "metadata": {
    "execution": {
     "iopub.execute_input": "2022-01-13T01:49:10.481324Z",
     "iopub.status.busy": "2022-01-13T01:49:10.481065Z",
     "iopub.status.idle": "2022-01-13T01:49:12.767773Z",
     "shell.execute_reply": "2022-01-13T01:49:12.767006Z",
     "shell.execute_reply.started": "2022-01-13T01:49:10.481295Z"
    }
   },
   "outputs": [],
   "source": [
    "class CovidModel(tez.Model):\n",
    "    def __init__(self):\n",
    "        super().__init__()\n",
    "        self.model = timm.create_model(\"swin_large_patch4_window12_384_in22k\",pretrained=True,in_chans=3)\n",
    "        self.model.head = nn.Linear(self.model.head.in_features,128)\n",
    "        \n",
    "        self.dropout = nn.Dropout(0.1)\n",
    "        self.dense1 = nn.Linear(128,64)\n",
    "        self.dense2 = nn.Linear(64, 1)\n",
    "        self.step_scheduler_after = \"epoch\"\n",
    "    \n",
    "    def monitor_metrics(self,outputs,targets):\n",
    "        outputs = outputs.cpu().detach().numpy()\n",
    "        targets = targets.cpu().detach().numpy()\n",
    "        rmse = metrics.mean_squared_error(targets,outputs,squared=False)\n",
    "        return {\"rmse\":rmse}\n",
    "    \n",
    "    def fetch_scheduler(self):\n",
    "        sch = torch.optim.lr_scheduler.CosineAnnealingWarmRestarts(\n",
    "            self.optimizer,T_0 =10,T_mult=1, eta_min=1e-6,last_epoch=-1\n",
    "               )\n",
    "        return  sch \n",
    "    \n",
    "    def fetch_optimizer(self):\n",
    "        opt = torch.optim.Adam(self.parameters(),lr=1e-4)\n",
    "        return opt\n",
    "    \n",
    "    def forward(self,image,targets=None):\n",
    "        x = self.model(image)\n",
    "        x = self.dropout(x)\n",
    "        x = self.dense1(x)\n",
    "        x = self.dense2(x)\n",
    "        \n",
    "        \n",
    "        if targets is not None:\n",
    "            loss = nn.MSELoss()(x,targets.view(-1,1))\n",
    "            metrics = self.monitor_metrics(x,targets)\n",
    "            return x,loss,metrics\n",
    "        \n",
    "        return x,0,{}"
   ]
  },
  {
   "cell_type": "code",
   "execution_count": null,
   "metadata": {},
   "outputs": [],
   "source": []
  },
  {
   "cell_type": "code",
   "execution_count": null,
   "metadata": {
    "execution": {
     "iopub.execute_input": "2022-01-13T01:49:26.662188Z",
     "iopub.status.busy": "2022-01-13T01:49:26.661685Z",
     "iopub.status.idle": "2022-01-13T01:49:26.671212Z",
     "shell.execute_reply": "2022-01-13T01:49:26.670373Z",
     "shell.execute_reply.started": "2022-01-13T01:49:26.662151Z"
    }
   },
   "outputs": [],
   "source": [
    "train_aug = albumentations.Compose([\n",
    "    albumentations.Resize(args.image_size,args.image_size,p=1),\n",
    "    albumentations.HueSaturationValue(\n",
    "        hue_shift_limit=0.2,\n",
    "        sat_shift_limit =0.2,\n",
    "        val_shift_limit=0.2,\n",
    "        p=0.5\n",
    "    ),\n",
    "    albumentations.RandomBrightnessContrast(\n",
    "        brightness_limit=(-0.1,0.1),\n",
    "        contrast_limit =(-0.1,0.1),p=0.5\n",
    "    ),\n",
    "\n",
    "    albumentations.Normalize(\n",
    "        mean=[0.485, 0.456, 0.406],\n",
    "        std=[0.229, 0.224, 0.225],\n",
    "        max_pixel_value=255.0,\n",
    "        p=1.0\n",
    "    ),\n",
    "],p=1.0)\n",
    "\n",
    "valid_aug  = albumentations.Compose([\n",
    "    \n",
    "    albumentations.Resize(args.image_size,args.image_size,p=1),\n",
    "    albumentations.Normalize(\n",
    "        mean=[0.485, 0.456, 0.406],\n",
    "        std=[0.229, 0.224, 0.225],\n",
    "        max_pixel_value=255.0,\n",
    "        p=1.0,\n",
    "    \n",
    "    ),\n",
    "],p=1.0)"
   ]
  },
  {
   "cell_type": "code",
   "execution_count": null,
   "metadata": {
    "execution": {
     "iopub.execute_input": "2022-01-13T01:49:28.754316Z",
     "iopub.status.busy": "2022-01-13T01:49:28.753776Z",
     "iopub.status.idle": "2022-01-13T01:49:28.785485Z",
     "shell.execute_reply": "2022-01-13T01:49:28.784842Z",
     "shell.execute_reply.started": "2022-01-13T01:49:28.754278Z"
    }
   },
   "outputs": [],
   "source": [
    "df = pd.read_csv(\"../input/covid-percentage/train_10folds.csv\")\n",
    "df_train = df[df.kfold != args.fold].reset_index(drop=True)\n",
    "df_valid = df[df.kfold == args.fold].reset_index(drop=True)"
   ]
  },
  {
   "cell_type": "code",
   "execution_count": null,
   "metadata": {
    "execution": {
     "iopub.execute_input": "2022-01-13T01:49:44.193004Z",
     "iopub.status.busy": "2022-01-13T01:49:44.192739Z",
     "iopub.status.idle": "2022-01-13T01:49:44.199568Z",
     "shell.execute_reply": "2022-01-13T01:49:44.198676Z",
     "shell.execute_reply.started": "2022-01-13T01:49:44.192974Z"
    }
   },
   "outputs": [],
   "source": [
    "train_img_paths =[f\"./Train/{x}\" for x in df_train[\"name\"].values]"
   ]
  },
  {
   "cell_type": "code",
   "execution_count": null,
   "metadata": {
    "execution": {
     "iopub.execute_input": "2022-01-13T01:49:59.743973Z",
     "iopub.status.busy": "2022-01-13T01:49:59.743405Z",
     "iopub.status.idle": "2022-01-13T01:49:59.748552Z",
     "shell.execute_reply": "2022-01-13T01:49:59.74739Z",
     "shell.execute_reply.started": "2022-01-13T01:49:59.743932Z"
    }
   },
   "outputs": [],
   "source": [
    "valid_img_paths =[f\"./Train/{x}\" for x in df_valid[\"name\"].values]"
   ]
  },
  {
   "cell_type": "code",
   "execution_count": null,
   "metadata": {
    "execution": {
     "iopub.execute_input": "2021-11-07T08:11:59.017466Z",
     "iopub.status.busy": "2021-11-07T08:11:59.01696Z",
     "iopub.status.idle": "2021-11-07T08:11:59.022092Z",
     "shell.execute_reply": "2021-11-07T08:11:59.021017Z",
     "shell.execute_reply.started": "2021-11-07T08:11:59.01742Z"
    }
   },
   "outputs": [],
   "source": []
  },
  {
   "cell_type": "code",
   "execution_count": null,
   "metadata": {
    "execution": {
     "iopub.execute_input": "2021-12-23T08:13:33.928821Z",
     "iopub.status.busy": "2021-12-23T08:13:33.928301Z",
     "iopub.status.idle": "2021-12-23T08:13:33.93421Z",
     "shell.execute_reply": "2021-12-23T08:13:33.933445Z",
     "shell.execute_reply.started": "2021-12-23T08:13:33.928783Z"
    }
   },
   "outputs": [],
   "source": [
    "train_dataset = CovidDataset(\n",
    "    image_paths = train_img_paths,\n",
    "    targets= df_train.per.values,\n",
    "    augmentations=train_aug\n",
    ")\n",
    "valid_dataset = CovidDataset(\n",
    "    image_paths = valid_img_paths,\n",
    "    targets = df_valid.per.values,\n",
    "    augmentations=valid_aug \n",
    ")"
   ]
  },
  {
   "cell_type": "code",
   "execution_count": null,
   "metadata": {},
   "outputs": [],
   "source": []
  },
  {
   "cell_type": "code",
   "execution_count": null,
   "metadata": {
    "execution": {
     "iopub.execute_input": "2021-12-23T08:13:40.82407Z",
     "iopub.status.busy": "2021-12-23T08:13:40.823543Z",
     "iopub.status.idle": "2021-12-23T08:14:26.775014Z",
     "shell.execute_reply": "2021-12-23T08:14:26.774226Z",
     "shell.execute_reply.started": "2021-12-23T08:13:40.82402Z"
    }
   },
   "outputs": [],
   "source": [
    "model= CovidModel()\n",
    "es = EarlyStopping(\n",
    "    monitor='valid_rmse',\n",
    "    model_path = f\"model_f{args.fold}.bin\",\n",
    "    patience =5,\n",
    "    mode=\"min\",\n",
    "    save_weights_only=True,\n",
    ")"
   ]
  },
  {
   "cell_type": "code",
   "execution_count": null,
   "metadata": {
    "execution": {
     "iopub.execute_input": "2021-12-20T12:56:57.43588Z",
     "iopub.status.busy": "2021-12-20T12:56:57.435094Z",
     "iopub.status.idle": "2021-12-20T12:57:09.687034Z",
     "shell.execute_reply": "2021-12-20T12:57:09.685983Z",
     "shell.execute_reply.started": "2021-12-20T12:56:57.435829Z"
    }
   },
   "outputs": [],
   "source": [
    "##starting the training process"
   ]
  },
  {
   "cell_type": "code",
   "execution_count": null,
   "metadata": {
    "execution": {
     "iopub.execute_input": "2021-12-23T08:14:32.757825Z",
     "iopub.status.busy": "2021-12-23T08:14:32.757552Z"
    }
   },
   "outputs": [],
   "source": [
    "model.fit(\n",
    "train_dataset,\n",
    "valid_dataset=valid_dataset,\n",
    "train_bs =args.batch_size,\n",
    "valid_bs= args.batch_size,\n",
    "device=\"cuda\",\n",
    "epochs=20,\n",
    "callbacks=[es],\n",
    "fp16=True)"
   ]
  },
  {
   "cell_type": "code",
   "execution_count": null,
   "metadata": {},
   "outputs": [],
   "source": []
  },
  {
   "cell_type": "code",
   "execution_count": null,
   "metadata": {},
   "outputs": [],
   "source": []
  },
  {
   "cell_type": "code",
   "execution_count": null,
   "metadata": {},
   "outputs": [],
   "source": [
    "##evaluating best model on val data and preparing test file"
   ]
  },
  {
   "cell_type": "code",
   "execution_count": null,
   "metadata": {},
   "outputs": [],
   "source": []
  },
  {
   "cell_type": "code",
   "execution_count": null,
   "metadata": {
    "execution": {
     "iopub.execute_input": "2022-01-13T01:50:30.389146Z",
     "iopub.status.busy": "2022-01-13T01:50:30.388577Z",
     "iopub.status.idle": "2022-01-13T01:50:30.403269Z",
     "shell.execute_reply": "2022-01-13T01:50:30.402565Z",
     "shell.execute_reply.started": "2022-01-13T01:50:30.389108Z"
    }
   },
   "outputs": [],
   "source": [
    "df_test= pd.read_csv(\"../input/first-model-percentage/val_file.csv\")"
   ]
  },
  {
   "cell_type": "code",
   "execution_count": null,
   "metadata": {
    "execution": {
     "iopub.execute_input": "2021-12-21T12:42:45.782438Z",
     "iopub.status.busy": "2021-12-21T12:42:45.781826Z",
     "iopub.status.idle": "2021-12-21T12:42:45.792859Z",
     "shell.execute_reply": "2021-12-21T12:42:45.791768Z",
     "shell.execute_reply.started": "2021-12-21T12:42:45.782392Z"
    }
   },
   "outputs": [],
   "source": [
    "df_test.head()"
   ]
  },
  {
   "cell_type": "code",
   "execution_count": null,
   "metadata": {
    "execution": {
     "iopub.execute_input": "2021-12-21T12:42:48.697108Z",
     "iopub.status.busy": "2021-12-21T12:42:48.696557Z",
     "iopub.status.idle": "2021-12-21T12:43:02.139421Z",
     "shell.execute_reply": "2021-12-21T12:43:02.138602Z",
     "shell.execute_reply.started": "2021-12-21T12:42:48.697069Z"
    }
   },
   "outputs": [],
   "source": [
    "\n",
    "model.load(\"model_f0.bin\", device=\"cuda\", weights_only=True)\n"
   ]
  },
  {
   "cell_type": "code",
   "execution_count": null,
   "metadata": {
    "execution": {
     "iopub.execute_input": "2022-01-13T01:50:32.928459Z",
     "iopub.status.busy": "2022-01-13T01:50:32.92785Z",
     "iopub.status.idle": "2022-01-13T01:50:32.93292Z",
     "shell.execute_reply": "2022-01-13T01:50:32.932043Z",
     "shell.execute_reply.started": "2022-01-13T01:50:32.92842Z"
    }
   },
   "outputs": [],
   "source": [
    "test_img_paths =[f\"./Val/{x}\" for x in df_test[\"name\"].values]"
   ]
  },
  {
   "cell_type": "code",
   "execution_count": null,
   "metadata": {
    "execution": {
     "iopub.execute_input": "2022-01-13T01:50:34.653271Z",
     "iopub.status.busy": "2022-01-13T01:50:34.652361Z",
     "iopub.status.idle": "2022-01-13T01:50:34.658883Z",
     "shell.execute_reply": "2022-01-13T01:50:34.658079Z",
     "shell.execute_reply.started": "2022-01-13T01:50:34.653217Z"
    }
   },
   "outputs": [],
   "source": [
    "len(test_img_paths)"
   ]
  },
  {
   "cell_type": "code",
   "execution_count": null,
   "metadata": {
    "execution": {
     "iopub.execute_input": "2021-12-21T12:43:46.344973Z",
     "iopub.status.busy": "2021-12-21T12:43:46.344118Z",
     "iopub.status.idle": "2021-12-21T12:43:46.351619Z",
     "shell.execute_reply": "2021-12-21T12:43:46.350858Z",
     "shell.execute_reply.started": "2021-12-21T12:43:46.344925Z"
    }
   },
   "outputs": [],
   "source": [
    "test_img_paths[0]"
   ]
  },
  {
   "cell_type": "code",
   "execution_count": null,
   "metadata": {
    "execution": {
     "iopub.execute_input": "2021-12-21T12:43:54.623775Z",
     "iopub.status.busy": "2021-12-21T12:43:54.623043Z",
     "iopub.status.idle": "2021-12-21T12:43:54.627367Z",
     "shell.execute_reply": "2021-12-21T12:43:54.626708Z",
     "shell.execute_reply.started": "2021-12-21T12:43:54.623738Z"
    }
   },
   "outputs": [],
   "source": [
    "test_dataset = CovidDataset(\n",
    "        image_paths=test_img_paths,\n",
    "        targets=np.ones(len(test_img_paths)),\n",
    "        augmentations=valid_aug,\n",
    "    )"
   ]
  },
  {
   "cell_type": "code",
   "execution_count": null,
   "metadata": {
    "execution": {
     "iopub.execute_input": "2021-12-21T12:43:56.799891Z",
     "iopub.status.busy": "2021-12-21T12:43:56.799221Z",
     "iopub.status.idle": "2021-12-21T12:43:56.804263Z",
     "shell.execute_reply": "2021-12-21T12:43:56.803161Z",
     "shell.execute_reply.started": "2021-12-21T12:43:56.799848Z"
    }
   },
   "outputs": [],
   "source": [
    "test_predictions = model.predict(test_dataset, batch_size=args.batch_size, n_jobs=-1)"
   ]
  },
  {
   "cell_type": "code",
   "execution_count": null,
   "metadata": {
    "execution": {
     "iopub.execute_input": "2021-12-21T12:44:00.413731Z",
     "iopub.status.busy": "2021-12-21T12:44:00.413456Z",
     "iopub.status.idle": "2021-12-21T12:45:05.748462Z",
     "shell.execute_reply": "2021-12-21T12:45:05.747612Z",
     "shell.execute_reply.started": "2021-12-21T12:44:00.4137Z"
    }
   },
   "outputs": [],
   "source": [
    "final_test_predictions = []\n",
    "for preds in tqdm(test_predictions):\n",
    "    final_test_predictions.extend(preds.ravel().tolist())"
   ]
  },
  {
   "cell_type": "code",
   "execution_count": null,
   "metadata": {
    "execution": {
     "iopub.execute_input": "2021-12-21T12:46:20.600823Z",
     "iopub.status.busy": "2021-12-21T12:46:20.600226Z",
     "iopub.status.idle": "2021-12-21T12:46:20.605607Z",
     "shell.execute_reply": "2021-12-21T12:46:20.60458Z",
     "shell.execute_reply.started": "2021-12-21T12:46:20.600783Z"
    }
   },
   "outputs": [],
   "source": [
    "l = [ 0 if x<=0 else x  for x in final_test_predictions]"
   ]
  },
  {
   "cell_type": "code",
   "execution_count": null,
   "metadata": {
    "execution": {
     "iopub.execute_input": "2021-12-21T12:46:38.272292Z",
     "iopub.status.busy": "2021-12-21T12:46:38.272033Z",
     "iopub.status.idle": "2021-12-21T12:46:38.285125Z",
     "shell.execute_reply": "2021-12-21T12:46:38.284285Z",
     "shell.execute_reply.started": "2021-12-21T12:46:38.272262Z"
    }
   },
   "outputs": [],
   "source": [
    "\n",
    "df_test[\"per\"] =l\n",
    "df_test = df_test[[\"name\", \"per\"]]\n",
    "df_test.to_csv(\"predictions.csv\", index=False)"
   ]
  },
  {
   "cell_type": "code",
   "execution_count": null,
   "metadata": {},
   "outputs": [],
   "source": []
  }
 ],
 "metadata": {
  "kernelspec": {
   "display_name": "Python 3",
   "language": "python",
   "name": "python3"
  },
  "language_info": {
   "codemirror_mode": {
    "name": "ipython",
    "version": 3
   },
   "file_extension": ".py",
   "mimetype": "text/x-python",
   "name": "python",
   "nbconvert_exporter": "python",
   "pygments_lexer": "ipython3",
   "version": "3.8.3"
  }
 },
 "nbformat": 4,
 "nbformat_minor": 4
}
